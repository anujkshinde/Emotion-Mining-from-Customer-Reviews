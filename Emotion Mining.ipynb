{
 "cells": [
  {
   "cell_type": "markdown",
   "id": "5fd2f192-d753-4f95-805c-00b3be49fe80",
   "metadata": {},
   "source": [
    "# Installed Libraries"
   ]
  },
  {
   "cell_type": "code",
   "execution_count": null,
   "id": "a968ae13-4e26-4aea-b8ef-efa70c05de7d",
   "metadata": {
    "scrolled": true
   },
   "outputs": [],
   "source": [
    "pip install \n",
    "pip install selenium"
   ]
  },
  {
   "cell_type": "markdown",
   "id": "d2188216-4642-476c-9b90-ed3adf1f6f37",
   "metadata": {},
   "source": [
    "# Imported Libraries"
   ]
  },
  {
   "cell_type": "code",
   "execution_count": 1,
   "id": "d84de894-5fa8-4ac7-939d-bd2438d51a8e",
   "metadata": {},
   "outputs": [],
   "source": [
    "from textblob import TextBlob\n",
    "from selenium import webdriver\n",
    "from selenium.webdriver.common.by import By\n",
    "import time\n",
    "import matplotlib.pyplot as plt\n",
    "import seaborn as sns\n",
    "import pandas as pd"
   ]
  },
  {
   "cell_type": "markdown",
   "id": "ff7c14df-2b16-45be-b606-cde2c72b09a2",
   "metadata": {},
   "source": [
    "# Create Function"
   ]
  },
  {
   "cell_type": "code",
   "execution_count": 12,
   "id": "221d39c6-ac57-4063-8c81-5fdb815e0b09",
   "metadata": {},
   "outputs": [],
   "source": [
    "text='I love this product so much that i hate it'\n",
    "def emotion_detection(text):\n",
    "    text_analysis=TextBlob(text)\n",
    "    polarity_score=text_analysis.polarity\n",
    "    print(text)\n",
    "    if polarity_score>0.5:\n",
    "        print('Emotion Detected: Happy')\n",
    "        emo='Happy'\n",
    "    elif polarity_score>0:\n",
    "        print('Emotion Detected: Satisfied')\n",
    "        emo='Satisfied'\n",
    "    elif polarity_score==0:\n",
    "        print('Emotion Detected: Neutral')\n",
    "        emo='Neutral'\n",
    "    elif polarity_score>-0.5:\n",
    "        print('Emotion Detected: Sad')\n",
    "        emo='Sad'\n",
    "    else:\n",
    "        print('Emotion Detected: Angry')\n",
    "        emo='Angry'\n",
    "    return emo"
   ]
  },
  {
   "cell_type": "markdown",
   "id": "eb33e407-ea77-4afc-b95d-09cd98af562d",
   "metadata": {},
   "source": [
    "# Start Browser & Search for reviews"
   ]
  },
  {
   "cell_type": "code",
   "execution_count": 13,
   "id": "16857e88-6085-4bbd-8ae4-68ab203d5528",
   "metadata": {},
   "outputs": [],
   "source": [
    "driver=webdriver.Chrome()\n",
    "\n",
    "url=\"https://www.google.co.in/maps/place/Starbucks/@19.0249532,72.9857452,14z/data=!4m12!1m2!2m1!1sStarbucks!3m8!1s0x3be7c3131ca7c273:0x5837fa40516dee8a!8m2!3d19.0219944!4d73.0187744!9m1!1b1!15sCglTdGFyYnVja3MiA4gBAVoLIglzdGFyYnVja3OSAQtjb2ZmZWVfc2hvcKoBWgoML2cvMWhkeXg0cnZnCgkvbS8wMThjX3IQASoNIglzdGFyYnVja3MoADIfEAEiGyi1x2QvNPT_EqIbriHpodLnGr82y8NFccreLTINEAIiCXN0YXJidWNrc-ABAA!16s%2Fg%2F11y1xr3qvf?entry=ttu&g_ep=EgoyMDI1MDYwMS4wIKXMDSoASAFQAw%3D%3D\"\n",
    "driver.get(url)"
   ]
  },
  {
   "cell_type": "markdown",
   "id": "e715bc90-e458-430e-951d-047257d52ff6",
   "metadata": {},
   "source": [
    "# Extracted Reviews"
   ]
  },
  {
   "cell_type": "code",
   "execution_count": 14,
   "id": "7ba90b99-c2a1-42d6-aa51-5f7af5c348a8",
   "metadata": {},
   "outputs": [],
   "source": [
    "for i in range(5):\n",
    "    driver.execute_script(\"window.scrollBy(0,500)\")\n",
    "    time.sleep(2)"
   ]
  },
  {
   "cell_type": "code",
   "execution_count": 15,
   "id": "5df74a3c-31d9-41a2-976e-9268055b05b8",
   "metadata": {},
   "outputs": [
    {
     "name": "stdout",
     "output_type": "stream",
     "text": [
      "Shubham greets us every time and remembers choice of many customers. The ambience is unmatched to other cafe’s.\n",
      "Shubham greets us every time and remembers choice of many customers. The ambience is unmatched to other cafe’s.\n",
      "Emotion Detected: Satisfied\n",
      "--------------------------------------------------\n",
      "Dear Aniket Khadse,🌟 \"Wow! Thank you so much for your amazing review! We're delighted to hear that you enjoyed your experience at Starbucks. Your feedback means the world to us, and we can't wait to welcome you back again soon! …\n",
      "Dear Aniket Khadse,🌟 \"Wow! Thank you so much for your amazing review! We're delighted to hear that you enjoyed your experience at Starbucks. Your feedback means the world to us, and we can't wait to welcome you back again soon! …\n",
      "Emotion Detected: Satisfied\n",
      "--------------------------------------------------\n",
      "It was a great experience here . Visited this place for the first  time and the staff suggested me the menu which was so delicious\n",
      "Ms Moumita and Raveena area a very good host taking care of customers .\n",
      "It was a great experience here . Visited this place for the first  time and the staff suggested me the menu which was so delicious\n",
      "Ms Moumita and Raveena area a very good host taking care of customers .\n",
      "Emotion Detected: Happy\n",
      "--------------------------------------------------\n",
      "Dear Sandeep Koli,🌟 \"Wow! Thank you so much for your amazing review! We're delighted to hear that you enjoyed your experience at Starbucks. Your feedback means the world to us, and we can't wait to welcome you back again soon! …\n",
      "Dear Sandeep Koli,🌟 \"Wow! Thank you so much for your amazing review! We're delighted to hear that you enjoyed your experience at Starbucks. Your feedback means the world to us, and we can't wait to welcome you back again soon! …\n",
      "Emotion Detected: Satisfied\n",
      "--------------------------------------------------\n",
      "Haunting experience. I had terrible loose motion after drinking from here. It seems to be unprofessionally run. Drink from here if you want to land in hospital with diarrhea.\n",
      "Haunting experience. I had terrible loose motion after drinking from here. It seems to be unprofessionally run. Drink from here if you want to land in hospital with diarrhea.\n",
      "Emotion Detected: Angry\n",
      "--------------------------------------------------\n",
      "Dear Nitin Naidu,We're sorry to hear about your experience. Your feedback is important to us, and we'd like to make things right. Please reach out to our customer service team at 18602660010 or write to us at customercare@tatastarbucks.com so we can address your concerns directly.\n",
      "Dear Nitin Naidu,We're sorry to hear about your experience. Your feedback is important to us, and we'd like to make things right. Please reach out to our customer service team at 18602660010 or write to us at customercare@tatastarbucks.com so we can address your concerns directly.\n",
      "Emotion Detected: Satisfied\n",
      "--------------------------------------------------\n",
      "Wòrst experience worst taste\n",
      "First timers will hate Starbucks\n",
      "We ordered 5 drinks only 1 was upto the mark\n",
      "Wòrst experience worst taste\n",
      "First timers will hate Starbucks\n",
      "We ordered 5 drinks only 1 was upto the mark\n",
      "Emotion Detected: Sad\n",
      "--------------------------------------------------\n",
      "Dear GAURAV PANDIT,We're sorry to hear about your experience. Your feedback is important to us, and we'd like to make things right. Please reach out to our customer service team at 18602660010 or write to us at customercare@tatastarbucks.com so we can address your concerns directly.\n",
      "Dear GAURAV PANDIT,We're sorry to hear about your experience. Your feedback is important to us, and we'd like to make things right. Please reach out to our customer service team at 18602660010 or write to us at customercare@tatastarbucks.com so we can address your concerns directly.\n",
      "Emotion Detected: Satisfied\n",
      "--------------------------------------------------\n",
      "The taste of java chip was so bad, aftertaste was not good, service & atmosphere was good.\n",
      "The taste of java chip was so bad, aftertaste was not good, service & atmosphere was good.\n",
      "Emotion Detected: Sad\n",
      "--------------------------------------------------\n",
      "Dear Hrithik Gadam,We're sorry to hear about your experience. Your feedback is important to us, and we'd like to make things right. Please reach out to our customer service team at 18602660010 or write to us at customercare@tatastarbucks.com so we can address your concerns directly.\n",
      "Dear Hrithik Gadam,We're sorry to hear about your experience. Your feedback is important to us, and we'd like to make things right. Please reach out to our customer service team at 18602660010 or write to us at customercare@tatastarbucks.com so we can address your concerns directly.\n",
      "Emotion Detected: Satisfied\n",
      "--------------------------------------------------\n",
      "Pathetic experience, it taste like a b grade starbuck\n",
      "Pathetic experience, it taste like a b grade starbuck\n",
      "Emotion Detected: Angry\n",
      "--------------------------------------------------\n",
      "Dear Bharat Kumavat,We're sorry to hear about your experience. Your feedback is important to us, and we'd like to make things right. Please reach out to our customer service team at 18602660010 or write to us at customercare@tatastarbucks.com so we can address your concerns directly.\n",
      "Dear Bharat Kumavat,We're sorry to hear about your experience. Your feedback is important to us, and we'd like to make things right. Please reach out to our customer service team at 18602660010 or write to us at customercare@tatastarbucks.com so we can address your concerns directly.\n",
      "Emotion Detected: Satisfied\n",
      "--------------------------------------------------\n",
      "Worst experience and taste\n",
      "Worst experience and taste\n",
      "Emotion Detected: Angry\n",
      "--------------------------------------------------\n",
      "Dear Chintan Chaudhari,We're sorry to hear about your experience. Your feedback is important to us, and we'd like to make things right. Please reach out to our customer service team at 18602660010 or write to us at customercare@tatastarbucks.com so we can address your concerns directly.\n",
      "Dear Chintan Chaudhari,We're sorry to hear about your experience. Your feedback is important to us, and we'd like to make things right. Please reach out to our customer service team at 18602660010 or write to us at customercare@tatastarbucks.com so we can address your concerns directly.\n",
      "Emotion Detected: Satisfied\n",
      "--------------------------------------------------\n",
      "Worst Java chip hits\n",
      "Worst Java chip hits\n",
      "Emotion Detected: Angry\n",
      "--------------------------------------------------\n",
      "Dear Kunal Rawat,We're sorry to hear about your experience. Your feedback is important to us, and we'd like to make things right. Please reach out to our customer service team at 18602660010 or write to us at customercare@tatastarbucks.com so we can address your concerns directly.\n",
      "Dear Kunal Rawat,We're sorry to hear about your experience. Your feedback is important to us, and we'd like to make things right. Please reach out to our customer service team at 18602660010 or write to us at customercare@tatastarbucks.com so we can address your concerns directly.\n",
      "Emotion Detected: Satisfied\n",
      "--------------------------------------------------\n"
     ]
    }
   ],
   "source": [
    "reviews = driver.find_elements(By.CLASS_NAME,'wiI7pd')\n",
    "\n",
    "emotional_list=[]\n",
    "for i in reviews:\n",
    "    print(i.text)\n",
    "    extracted_emotion=emotion_detection(i.text)\n",
    "    emotional_list.append(extracted_emotion)\n",
    "    print('-'*50)"
   ]
  },
  {
   "cell_type": "markdown",
   "id": "57a4dbbc-140e-4da8-b506-2227acf78840",
   "metadata": {},
   "source": [
    "# Emotions Bar Plot"
   ]
  },
  {
   "cell_type": "code",
   "execution_count": 16,
   "id": "32cdcbc0-5bc0-4fda-9834-4640f9dc46f3",
   "metadata": {},
   "outputs": [
    {
     "data": {
      "text/plain": [
       "16"
      ]
     },
     "execution_count": 16,
     "metadata": {},
     "output_type": "execute_result"
    }
   ],
   "source": [
    "df=pd.DataFrame(emotional_list,columns=['Emotion'])\n",
    "len(df)"
   ]
  },
  {
   "cell_type": "code",
   "execution_count": 17,
   "id": "baba3301-16ca-48b1-9403-969856d2ed78",
   "metadata": {},
   "outputs": [
    {
     "data": {
      "text/plain": [
       "<Axes: xlabel='Emotion'>"
      ]
     },
     "execution_count": 17,
     "metadata": {},
     "output_type": "execute_result"
    },
    {
     "data": {
      "image/png": "[encoded data removed]",
      "text/plain": [
       "<Figure size 640x480 with 1 Axes>"
      ]
     },
     "metadata": {},
     "output_type": "display_data"
    }
   ],
   "source": [
    "df['Emotion'].value_counts().plot(kind='bar')"
   ]
  },
  {
   "cell_type": "code",
   "execution_count": null,
   "id": "34b0db4f-595d-4142-aebe-168c4653dbfd",
   "metadata": {},
   "outputs": [],
   "source": []
  }
 ],
 "metadata": {
  "kernelspec": {
   "display_name": "Python 3 (ipykernel)",
   "language": "python",
   "name": "python3"
  },
  "language_info": {
   "codemirror_mode": {
    "name": "ipython",
    "version": 3
   },
   "file_extension": ".py",
   "mimetype": "text/x-python",
   "name": "python",
   "nbconvert_exporter": "python",
   "pygments_lexer": "ipython3",
   "version": "3.12.7"
  }
 },
 "nbformat": 4,
 "nbformat_minor": 5
}
